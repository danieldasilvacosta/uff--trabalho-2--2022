{
  "nbformat": 4,
  "nbformat_minor": 0,
  "metadata": {
    "colab": {
      "name": "tagger_bertimbau.ipynb",
      "provenance": [],
      "collapsed_sections": []
    },
    "kernelspec": {
      "name": "python3",
      "display_name": "Python 3"
    },
    "language_info": {
      "name": "python"
    },
    "accelerator": "GPU"
  },
  "cells": [
    {
      "cell_type": "code",
      "source": [
        "!pwd"
      ],
      "metadata": {
        "colab": {
          "base_uri": "https://localhost:8080/"
        },
        "id": "FnTjM9pFfvsR",
        "outputId": "4eab76ee-8c5e-41dc-af7b-78777fbc69f1"
      },
      "execution_count": 1,
      "outputs": [
        {
          "output_type": "stream",
          "name": "stdout",
          "text": [
            "/content\n"
          ]
        }
      ]
    },
    {
      "cell_type": "code",
      "source": [
        "from google.colab import drive\n",
        "# drive.mount('/content/drive/', force_remount=True)\n",
        "drive.mount('/content/drive/')"
      ],
      "metadata": {
        "colab": {
          "base_uri": "https://localhost:8080/"
        },
        "id": "CNk6gnjXfvvR",
        "outputId": "402459d6-2dd1-4708-c6bb-5da0b531d340"
      },
      "execution_count": 2,
      "outputs": [
        {
          "output_type": "stream",
          "name": "stdout",
          "text": [
            "Drive already mounted at /content/drive/; to attempt to forcibly remount, call drive.mount(\"/content/drive/\", force_remount=True).\n"
          ]
        }
      ]
    },
    {
      "cell_type": "code",
      "source": [
        "!pwd"
      ],
      "metadata": {
        "colab": {
          "base_uri": "https://localhost:8080/"
        },
        "id": "2eHD6o2ff1x1",
        "outputId": "fb6cbd35-8d09-4ca7-e5c9-7355822f0107"
      },
      "execution_count": 3,
      "outputs": [
        {
          "output_type": "stream",
          "name": "stdout",
          "text": [
            "/content\n"
          ]
        }
      ]
    },
    {
      "cell_type": "code",
      "source": [
        "cd \"drive/MyDrive/Doutorado/Disciplinas/[2022.1] [UFF] Processamento de Linguagem Natural - Professora: Aline Marins Paes Carvalho/Trabalhos/Trabalho 2 - POS  e Transfer Learning/\""
      ],
      "metadata": {
        "colab": {
          "base_uri": "https://localhost:8080/"
        },
        "id": "C47nPx-df4gl",
        "outputId": "77ff6bd8-0095-4a22-afb1-63ff3a51e75f"
      },
      "execution_count": 4,
      "outputs": [
        {
          "output_type": "stream",
          "name": "stdout",
          "text": [
            "/content/drive/MyDrive/Doutorado/Disciplinas/[2022.1] [UFF] Processamento de Linguagem Natural - Professora: Aline Marins Paes Carvalho/Trabalhos/Trabalho 2 - POS  e Transfer Learning\n"
          ]
        }
      ]
    },
    {
      "cell_type": "code",
      "source": [
        "!pwd"
      ],
      "metadata": {
        "colab": {
          "base_uri": "https://localhost:8080/"
        },
        "id": "snr2_xBOf9eG",
        "outputId": "c0d4fe13-d17a-4ad6-9c59-89c95ec3cbf2"
      },
      "execution_count": 5,
      "outputs": [
        {
          "output_type": "stream",
          "name": "stdout",
          "text": [
            "/content/drive/MyDrive/Doutorado/Disciplinas/[2022.1] [UFF] Processamento de Linguagem Natural - Professora: Aline Marins Paes Carvalho/Trabalhos/Trabalho 2 - POS  e Transfer Learning\n"
          ]
        }
      ]
    },
    {
      "cell_type": "markdown",
      "source": [
        "# Imports"
      ],
      "metadata": {
        "id": "LZrsHJNFgBzq"
      }
    },
    {
      "cell_type": "code",
      "source": [
        "!pip3 install transformers"
      ],
      "metadata": {
        "colab": {
          "base_uri": "https://localhost:8080/"
        },
        "id": "bezjnh-GYdoc",
        "outputId": "965fd8ff-ec96-4bf0-f60f-22f4434641f1"
      },
      "execution_count": 6,
      "outputs": [
        {
          "output_type": "stream",
          "name": "stdout",
          "text": [
            "Looking in indexes: https://pypi.org/simple, https://us-python.pkg.dev/colab-wheels/public/simple/\n",
            "Requirement already satisfied: transformers in /usr/local/lib/python3.7/dist-packages (4.19.3)\n",
            "Requirement already satisfied: requests in /usr/local/lib/python3.7/dist-packages (from transformers) (2.23.0)\n",
            "Requirement already satisfied: tqdm>=4.27 in /usr/local/lib/python3.7/dist-packages (from transformers) (4.64.0)\n",
            "Requirement already satisfied: tokenizers!=0.11.3,<0.13,>=0.11.1 in /usr/local/lib/python3.7/dist-packages (from transformers) (0.12.1)\n",
            "Requirement already satisfied: huggingface-hub<1.0,>=0.1.0 in /usr/local/lib/python3.7/dist-packages (from transformers) (0.7.0)\n",
            "Requirement already satisfied: packaging>=20.0 in /usr/local/lib/python3.7/dist-packages (from transformers) (21.3)\n",
            "Requirement already satisfied: pyyaml>=5.1 in /usr/local/lib/python3.7/dist-packages (from transformers) (6.0)\n",
            "Requirement already satisfied: importlib-metadata in /usr/local/lib/python3.7/dist-packages (from transformers) (4.11.4)\n",
            "Requirement already satisfied: filelock in /usr/local/lib/python3.7/dist-packages (from transformers) (3.7.0)\n",
            "Requirement already satisfied: regex!=2019.12.17 in /usr/local/lib/python3.7/dist-packages (from transformers) (2019.12.20)\n",
            "Requirement already satisfied: numpy>=1.17 in /usr/local/lib/python3.7/dist-packages (from transformers) (1.21.6)\n",
            "Requirement already satisfied: typing-extensions>=3.7.4.3 in /usr/local/lib/python3.7/dist-packages (from huggingface-hub<1.0,>=0.1.0->transformers) (4.2.0)\n",
            "Requirement already satisfied: pyparsing!=3.0.5,>=2.0.2 in /usr/local/lib/python3.7/dist-packages (from packaging>=20.0->transformers) (3.0.9)\n",
            "Requirement already satisfied: zipp>=0.5 in /usr/local/lib/python3.7/dist-packages (from importlib-metadata->transformers) (3.8.0)\n",
            "Requirement already satisfied: chardet<4,>=3.0.2 in /usr/local/lib/python3.7/dist-packages (from requests->transformers) (3.0.4)\n",
            "Requirement already satisfied: idna<3,>=2.5 in /usr/local/lib/python3.7/dist-packages (from requests->transformers) (2.10)\n",
            "Requirement already satisfied: certifi>=2017.4.17 in /usr/local/lib/python3.7/dist-packages (from requests->transformers) (2022.5.18.1)\n",
            "Requirement already satisfied: urllib3!=1.25.0,!=1.25.1,<1.26,>=1.21.1 in /usr/local/lib/python3.7/dist-packages (from requests->transformers) (1.24.3)\n"
          ]
        }
      ]
    },
    {
      "cell_type": "code",
      "source": [
        "!pip3 install pyconll\n",
        "import pyconll # https://github.com/soutsios/pos-tagger-bert/blob/master/pos_tagger_bert.ipynb"
      ],
      "metadata": {
        "colab": {
          "base_uri": "https://localhost:8080/"
        },
        "id": "P6mMueE-jEU2",
        "outputId": "28b31eb1-f14e-41c1-ead0-03ad2f8b44fa"
      },
      "execution_count": 7,
      "outputs": [
        {
          "output_type": "stream",
          "name": "stdout",
          "text": [
            "Looking in indexes: https://pypi.org/simple, https://us-python.pkg.dev/colab-wheels/public/simple/\n",
            "Requirement already satisfied: pyconll in /usr/local/lib/python3.7/dist-packages (3.1.0)\n"
          ]
        }
      ]
    },
    {
      "cell_type": "markdown",
      "metadata": {
        "id": "q2b2c8sUR6X2"
      },
      "source": [
        "## Classificação de Tokens (muito-para-muitos)\n",
        "\n",
        "Vamos agora refinar o modelo BERTimbau para uma tarefa de classificação de tokens.\n",
        "\n",
        "![sequence.png](data:image/png;base64,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)"
      ]
    },
    {
      "cell_type": "markdown",
      "source": [
        "Carregando e formatando o dataset em português."
      ],
      "metadata": {
        "id": "iQRFbKzigKzo"
      }
    },
    {
      "cell_type": "code",
      "source": [
        "# Baseado em https://github.com/soutsios/pos-tagger-bert/blob/master/pos_tagger_bert.ipynb\n",
        "\n",
        "# trainset\n",
        "train_X = list()\n",
        "train_y = list()\n",
        "data = pyconll.load_from_file( './datasets/pt_bosque-ud-train.conllu' )\n",
        "train_tagged_sentences=[]\n",
        "t=0\n",
        "for sentence in data:\n",
        "    tagged_sentence=[]\n",
        "    X_sentence = list()\n",
        "    y_sentence = list()\n",
        "    for token in sentence:\n",
        "        if token.upos and token.form:\n",
        "            t+=1\n",
        "            tagged_sentence.append((token.form.lower(), token.upos))\n",
        "\n",
        "            X_sentence.append( token.form )\n",
        "            y_sentence.append( token.upos )\n",
        "    train_X.append( ' '.join(str(t) for t in X_sentence) )\n",
        "    train_y.append( [str(tag) for tag in y_sentence] )\n",
        "    train_tagged_sentences.append(tagged_sentence)\n",
        "\n",
        "# devset\n",
        "\n",
        "dev_X = list()\n",
        "dev_y = list()\n",
        "data = pyconll.load_from_file( './datasets/pt_bosque-ud-dev.conllu' )\n",
        "dev_tagged_sentences=[]\n",
        "t=0\n",
        "for sentence in data:\n",
        "    tagged_sentence=[]\n",
        "    X_sentence = list()\n",
        "    y_sentence = list()\n",
        "    for token in sentence:\n",
        "        if token.upos and token.form:\n",
        "            t+=1\n",
        "            tagged_sentence.append((token.form.lower(), token.upos))\n",
        "\n",
        "            X_sentence.append( token.form )\n",
        "            y_sentence.append( token.upos )\n",
        "    dev_X.append( ' '.join(str(t) for t in X_sentence) )\n",
        "    dev_y.append( [str(tag) for tag in y_sentence] )\n",
        "    dev_tagged_sentences.append(tagged_sentence)\n"
      ],
      "metadata": {
        "id": "28OM0YppvNy_"
      },
      "execution_count": 8,
      "outputs": []
    },
    {
      "cell_type": "code",
      "source": [
        "def parse(data):\n",
        "  X = [' '.join([w[0] for w in snt]) for snt in data]\n",
        "  y = [[w[1] for w in snt] for snt in data]\n",
        "\n",
        "  tags = []\n",
        "  for snt in y:\n",
        "    tags.extend(snt)\n",
        "  tags = list(set(tags))\n",
        "  tags.append('<pad>')\n",
        "  tag2id = { tag:i for i, tag in enumerate(tags) }\n",
        "  id2tag = { i:tag for i, tag in enumerate(tags) }\n",
        "  return X, y, tag2id, id2tag\n",
        "\n",
        "train_X, train_y, tag2id, id2tag = parse( train_tagged_sentences )\n",
        "dev_X, dev_y, _, _ = parse( dev_tagged_sentences )"
      ],
      "metadata": {
        "id": "etYC9QY8xtBz"
      },
      "execution_count": 9,
      "outputs": []
    },
    {
      "cell_type": "markdown",
      "metadata": {
        "id": "Qj5HsOkf6nYB"
      },
      "source": [
        "Como o tokenizador do BERTimbau pode segmentar o texto em sub-tokens, precisamos alinhá-los as tags que marcam as classes gramaticais"
      ]
    },
    {
      "cell_type": "code",
      "metadata": {
        "colab": {
          "base_uri": "https://localhost:8080/"
        },
        "id": "u1hO9DMZVnNH",
        "outputId": "76416e12-9a74-404f-9be5-6b8d168922c3"
      },
      "source": [
        "# align\n",
        "from transformers import AutoTokenizer\n",
        "\n",
        "def align(X, y):\n",
        "  tokenizer = AutoTokenizer.from_pretrained('neuralmind/bert-base-portuguese-cased', do_lower_case=False)\n",
        "  \n",
        "  procdata = []\n",
        "  for (X_, y_) in zip(X, y):\n",
        "    inputs = tokenizer(X_, return_tensors=\"pt\")\n",
        "    tokens = tokenizer.convert_ids_to_tokens(inputs['input_ids'][0])\n",
        "\n",
        "    try:\n",
        "      new_tags = ['<pad>']\n",
        "      pos = 0\n",
        "      for token in tokens[1:-1]:\n",
        "        if '##' in token:\n",
        "          new_tags.append(y_[pos-1])\n",
        "        else:\n",
        "          new_tags.append(y_[pos])\n",
        "          pos += 1\n",
        "      new_tags.append('<pad>')\n",
        "\n",
        "      procdata.append({ 'X': X_, 'y': ' '.join(new_tags) })\n",
        "    except:\n",
        "      pass\n",
        "  return procdata\n",
        "\n",
        "trainset = align(train_X, train_y)\n",
        "devset = align(dev_X, dev_y)\n",
        "\n",
        "len(trainset), len(devset)"
      ],
      "execution_count": 10,
      "outputs": [
        {
          "output_type": "execute_result",
          "data": {
            "text/plain": [
              "(5496, 913)"
            ]
          },
          "metadata": {},
          "execution_count": 10
        }
      ]
    },
    {
      "cell_type": "markdown",
      "metadata": {
        "id": "hdG0REEb7VIl"
      },
      "source": [
        "Importando dependências. Veja que utilizaremos os métodos `AutoTokenizer` e `AutoModelForTokenClassification` para instanciar o tokenizador e o modelo de classificação de tokens."
      ]
    },
    {
      "cell_type": "code",
      "metadata": {
        "id": "NmztB71FfsAP"
      },
      "source": [
        "import os\n",
        "import torch\n",
        "import torch.nn as nn\n",
        "from torch import optim\n",
        "from transformers import AutoTokenizer, AutoModelForTokenClassification\n",
        "from sklearn.metrics import accuracy_score, f1_score, classification_report"
      ],
      "execution_count": 11,
      "outputs": []
    },
    {
      "cell_type": "markdown",
      "metadata": {
        "id": "CTnkqQ_H7iv5"
      },
      "source": [
        "Definindo parâmetros do modelo e treinamento"
      ]
    },
    {
      "cell_type": "code",
      "metadata": {
        "id": "6xIR5mAhZ8TV"
      },
      "source": [
        "device = torch.device('cuda' if torch.cuda.is_available() else 'cpu')\n",
        "nclasses = len(tag2id)\n",
        "nepochs = 10\n",
        "batch_size = 16\n",
        "batch_status = 32\n",
        "learning_rate = 1e-5\n",
        "\n",
        "early_stop = 2\n",
        "max_length = 180\n",
        "write_path = 'model'"
      ],
      "execution_count": 12,
      "outputs": []
    },
    {
      "cell_type": "markdown",
      "metadata": {
        "id": "K0-Ks4_D7l7o"
      },
      "source": [
        "Separando os dados em batches"
      ]
    },
    {
      "cell_type": "code",
      "metadata": {
        "id": "bcYh4FR3hGDi"
      },
      "source": [
        "from torch.utils.data import DataLoader\n",
        "\n",
        "traindata = DataLoader(trainset, batch_size=batch_size, shuffle=True)\n",
        "devdata = DataLoader(devset, batch_size=batch_size, shuffle=True)"
      ],
      "execution_count": 13,
      "outputs": []
    },
    {
      "cell_type": "markdown",
      "metadata": {
        "id": "TInOepxE7tDx"
      },
      "source": [
        "Inicializando tokenizador, modelo, função de erro e otimizador"
      ]
    },
    {
      "cell_type": "code",
      "metadata": {
        "colab": {
          "base_uri": "https://localhost:8080/"
        },
        "id": "IttWMB6ohQ2w",
        "outputId": "0367eab6-145e-401e-cf9c-d7c9d0d59ef7"
      },
      "source": [
        "tokenizer = AutoTokenizer.from_pretrained('neuralmind/bert-base-portuguese-cased', do_lower_case=False)\n",
        "model = AutoModelForTokenClassification.from_pretrained('neuralmind/bert-base-portuguese-cased', num_labels=nclasses).to(device)\n",
        "\n",
        "optimizer = optim.AdamW(model.parameters(), lr=learning_rate)"
      ],
      "execution_count": 14,
      "outputs": [
        {
          "output_type": "stream",
          "name": "stderr",
          "text": [
            "Some weights of the model checkpoint at neuralmind/bert-base-portuguese-cased were not used when initializing BertForTokenClassification: ['cls.predictions.decoder.weight', 'cls.predictions.transform.LayerNorm.weight', 'cls.predictions.bias', 'cls.predictions.transform.dense.bias', 'cls.seq_relationship.weight', 'cls.predictions.transform.LayerNorm.bias', 'cls.seq_relationship.bias', 'cls.predictions.transform.dense.weight']\n",
            "- This IS expected if you are initializing BertForTokenClassification from the checkpoint of a model trained on another task or with another architecture (e.g. initializing a BertForSequenceClassification model from a BertForPreTraining model).\n",
            "- This IS NOT expected if you are initializing BertForTokenClassification from the checkpoint of a model that you expect to be exactly identical (initializing a BertForSequenceClassification model from a BertForSequenceClassification model).\n",
            "Some weights of BertForTokenClassification were not initialized from the model checkpoint at neuralmind/bert-base-portuguese-cased and are newly initialized: ['classifier.bias', 'classifier.weight']\n",
            "You should probably TRAIN this model on a down-stream task to be able to use it for predictions and inference.\n"
          ]
        }
      ]
    },
    {
      "cell_type": "markdown",
      "metadata": {
        "id": "G-UvXTnF7xdN"
      },
      "source": [
        "Método de Avaliação"
      ]
    },
    {
      "cell_type": "code",
      "metadata": {
        "id": "pakJtpBXl24V"
      },
      "source": [
        "def evaluate(model, testdata):\n",
        "  model.eval()\n",
        "  y_real, y_pred = [], []\n",
        "  for batch_idx, inp in enumerate(testdata):\n",
        "    texts = inp['X']\n",
        "\n",
        "    labels = []\n",
        "    for tags in inp['y']:\n",
        "      tag_idxs = [tag2id[tag] for tag in tags.split()]\n",
        "      labels.append(tag_idxs)\n",
        "    \n",
        "    # classifying\n",
        "    inputs = tokenizer(texts, return_tensors='pt', padding=True, truncation=True, max_length=max_length).to(device)\n",
        "    output = model(**inputs)\n",
        "                \n",
        "    pred_labels = torch.argmax(output.logits, 2).tolist()\n",
        "\n",
        "    for i in range(len(labels)):\n",
        "      y_real.extend(labels[i][1:-1])\n",
        "      seq_size = len(labels[i][1:-1])\n",
        "      y_pred.extend(pred_labels[i][1:seq_size+1])\n",
        "    \n",
        "    if (batch_idx+1) % batch_status == 0:\n",
        "      print('Progress:', round(batch_idx / len(testdata), 2), batch_idx)\n",
        "  \n",
        "  print(classification_report(y_real, y_pred))\n",
        "  f1 = f1_score(y_real, y_pred, average='weighted')\n",
        "  acc = accuracy_score(y_real, y_pred)\n",
        "  return f1, acc"
      ],
      "execution_count": 15,
      "outputs": []
    },
    {
      "cell_type": "markdown",
      "metadata": {
        "id": "yoiEwiRN72m4"
      },
      "source": [
        "Treinamento"
      ]
    },
    {
      "cell_type": "code",
      "metadata": {
        "colab": {
          "base_uri": "https://localhost:8080/"
        },
        "id": "y1gyFXXEhdN0",
        "outputId": "5084ab67-892a-453f-8cdf-9bda1d4f38cb"
      },
      "source": [
        "from torch.nn.utils.rnn import pad_sequence\n",
        "\n",
        "max_f1, repeat = 0, 0\n",
        "for epoch in range(nepochs):\n",
        "  model.train()\n",
        "  losses = []\n",
        "  for batch_idx, inp in enumerate(traindata):\n",
        "    texts = inp['X']\n",
        "    \n",
        "    labels = []\n",
        "    for tags in inp['y']:\n",
        "      tag_idxs = [tag2id[tag] for tag in tags.split()]\n",
        "      labels.append(torch.tensor(tag_idxs[:max_length]))\n",
        "    \n",
        "    labels= pad_sequence(labels, padding_value=tag2id['<pad>']).transpose(0, 1).unsqueeze(0).contiguous()\n",
        "\n",
        "    # classifying\n",
        "    inputs = tokenizer(texts, return_tensors='pt', padding=True, truncation=True, max_length=max_length).to(device)\n",
        "    output = model(**inputs, labels=labels.to(device))\n",
        "\n",
        "    # Calculate loss\n",
        "    loss = output.loss\n",
        "    losses.append(float(loss))\n",
        "\n",
        "    # Backpropagation\n",
        "    loss.backward()\n",
        "    optimizer.step()\n",
        "    optimizer.zero_grad()\n",
        "\n",
        "    # Display\n",
        "    if (batch_idx+1) % batch_status == 0:\n",
        "      print('Train Epoch: {} [{}/{} ({:.0f}%)]\\tLoss: {:.6f}\\tTotal Loss: {:.6f}'.format(epoch, \\\n",
        "        batch_idx+1, len(traindata), 100. * batch_idx / len(traindata), \n",
        "        float(loss), round(sum(losses) / len(losses), 5)))\n",
        "  \n",
        "  f1, acc = evaluate(model, devdata)\n",
        "  # print('F1: ', f1, 'Accuracy: ', acc)\n",
        "  print( f'F1: {f1:.2}' )\n",
        "  print( f'Accuracy: {acc:.2}' )\n",
        "  if f1 > max_f1:\n",
        "    model.save_pretrained(os.path.join(write_path, 'model'))\n",
        "    max_f1 = f1\n",
        "    repeat = 0\n",
        "    print('Saving best model...')\n",
        "  else:\n",
        "    repeat += 1\n",
        "  \n",
        "  if repeat == early_stop:\n",
        "    break"
      ],
      "execution_count": 16,
      "outputs": [
        {
          "output_type": "stream",
          "name": "stdout",
          "text": [
            "Train Epoch: 0 [32/344 (9%)]\tLoss: 1.577737\tTotal Loss: 2.148000\n",
            "Train Epoch: 0 [64/344 (18%)]\tLoss: 1.197158\tTotal Loss: 1.665040\n",
            "Train Epoch: 0 [96/344 (28%)]\tLoss: 0.509132\tTotal Loss: 1.352610\n",
            "Train Epoch: 0 [128/344 (37%)]\tLoss: 0.356048\tTotal Loss: 1.118310\n",
            "Train Epoch: 0 [160/344 (46%)]\tLoss: 0.263001\tTotal Loss: 0.953690\n",
            "Train Epoch: 0 [192/344 (56%)]\tLoss: 0.215110\tTotal Loss: 0.832030\n",
            "Train Epoch: 0 [224/344 (65%)]\tLoss: 0.205910\tTotal Loss: 0.737380\n",
            "Train Epoch: 0 [256/344 (74%)]\tLoss: 0.112080\tTotal Loss: 0.663980\n",
            "Train Epoch: 0 [288/344 (83%)]\tLoss: 0.073916\tTotal Loss: 0.604430\n",
            "Train Epoch: 0 [320/344 (93%)]\tLoss: 0.076411\tTotal Loss: 0.554750\n",
            "Progress: 0.53 31\n"
          ]
        },
        {
          "output_type": "stream",
          "name": "stderr",
          "text": [
            "/usr/local/lib/python3.7/dist-packages/sklearn/metrics/_classification.py:1318: UndefinedMetricWarning: Precision and F-score are ill-defined and being set to 0.0 in labels with no predicted samples. Use `zero_division` parameter to control this behavior.\n",
            "  _warn_prf(average, modifier, msg_start, len(result))\n",
            "/usr/local/lib/python3.7/dist-packages/sklearn/metrics/_classification.py:1318: UndefinedMetricWarning: Recall and F-score are ill-defined and being set to 0.0 in labels with no true samples. Use `zero_division` parameter to control this behavior.\n",
            "  _warn_prf(average, modifier, msg_start, len(result))\n",
            "/usr/local/lib/python3.7/dist-packages/sklearn/metrics/_classification.py:1318: UndefinedMetricWarning: Precision and F-score are ill-defined and being set to 0.0 in labels with no predicted samples. Use `zero_division` parameter to control this behavior.\n",
            "  _warn_prf(average, modifier, msg_start, len(result))\n",
            "/usr/local/lib/python3.7/dist-packages/sklearn/metrics/_classification.py:1318: UndefinedMetricWarning: Recall and F-score are ill-defined and being set to 0.0 in labels with no true samples. Use `zero_division` parameter to control this behavior.\n",
            "  _warn_prf(average, modifier, msg_start, len(result))\n",
            "/usr/local/lib/python3.7/dist-packages/sklearn/metrics/_classification.py:1318: UndefinedMetricWarning: Precision and F-score are ill-defined and being set to 0.0 in labels with no predicted samples. Use `zero_division` parameter to control this behavior.\n",
            "  _warn_prf(average, modifier, msg_start, len(result))\n",
            "/usr/local/lib/python3.7/dist-packages/sklearn/metrics/_classification.py:1318: UndefinedMetricWarning: Recall and F-score are ill-defined and being set to 0.0 in labels with no true samples. Use `zero_division` parameter to control this behavior.\n",
            "  _warn_prf(average, modifier, msg_start, len(result))\n"
          ]
        },
        {
          "output_type": "stream",
          "name": "stdout",
          "text": [
            "              precision    recall  f1-score   support\n",
            "\n",
            "           0       0.93      0.97      0.95      4637\n",
            "           1       0.88      0.90      0.89      1352\n",
            "           2       1.00      1.00      1.00      2671\n",
            "           3       0.99      0.99      0.99       470\n",
            "           5       0.00      0.00      0.00        11\n",
            "           6       0.89      0.88      0.88       515\n",
            "           7       0.94      0.95      0.94       760\n",
            "           8       0.98      0.99      0.98      3082\n",
            "           9       0.00      0.00      0.00        46\n",
            "          10       0.96      0.87      0.92      3122\n",
            "          11       0.90      0.93      0.91       838\n",
            "          12       0.95      0.91      0.93       348\n",
            "          13       0.00      0.00      0.00         4\n",
            "          14       0.98      0.98      0.98      2889\n",
            "          15       0.95      0.98      0.96      2700\n",
            "          16       0.93      0.92      0.93       503\n",
            "          17       0.00      0.00      0.00         0\n",
            "\n",
            "    accuracy                           0.95     23948\n",
            "   macro avg       0.72      0.72      0.72     23948\n",
            "weighted avg       0.95      0.95      0.95     23948\n",
            "\n",
            "F1: 0.95\n",
            "Accuracy: 0.95\n",
            "Saving best model...\n",
            "Train Epoch: 1 [32/344 (9%)]\tLoss: 0.092991\tTotal Loss: 0.092660\n",
            "Train Epoch: 1 [64/344 (18%)]\tLoss: 0.124248\tTotal Loss: 0.087500\n",
            "Train Epoch: 1 [96/344 (28%)]\tLoss: 0.070623\tTotal Loss: 0.084340\n",
            "Train Epoch: 1 [128/344 (37%)]\tLoss: 0.055026\tTotal Loss: 0.083880\n",
            "Train Epoch: 1 [160/344 (46%)]\tLoss: 0.074419\tTotal Loss: 0.081190\n",
            "Train Epoch: 1 [192/344 (56%)]\tLoss: 0.077086\tTotal Loss: 0.079380\n",
            "Train Epoch: 1 [224/344 (65%)]\tLoss: 0.066498\tTotal Loss: 0.077290\n",
            "Train Epoch: 1 [256/344 (74%)]\tLoss: 0.096008\tTotal Loss: 0.076930\n",
            "Train Epoch: 1 [288/344 (83%)]\tLoss: 0.053479\tTotal Loss: 0.076800\n",
            "Train Epoch: 1 [320/344 (93%)]\tLoss: 0.084845\tTotal Loss: 0.075790\n",
            "Progress: 0.53 31\n"
          ]
        },
        {
          "output_type": "stream",
          "name": "stderr",
          "text": [
            "/usr/local/lib/python3.7/dist-packages/sklearn/metrics/_classification.py:1318: UndefinedMetricWarning: Precision and F-score are ill-defined and being set to 0.0 in labels with no predicted samples. Use `zero_division` parameter to control this behavior.\n",
            "  _warn_prf(average, modifier, msg_start, len(result))\n",
            "/usr/local/lib/python3.7/dist-packages/sklearn/metrics/_classification.py:1318: UndefinedMetricWarning: Precision and F-score are ill-defined and being set to 0.0 in labels with no predicted samples. Use `zero_division` parameter to control this behavior.\n",
            "  _warn_prf(average, modifier, msg_start, len(result))\n",
            "/usr/local/lib/python3.7/dist-packages/sklearn/metrics/_classification.py:1318: UndefinedMetricWarning: Precision and F-score are ill-defined and being set to 0.0 in labels with no predicted samples. Use `zero_division` parameter to control this behavior.\n",
            "  _warn_prf(average, modifier, msg_start, len(result))\n"
          ]
        },
        {
          "output_type": "stream",
          "name": "stdout",
          "text": [
            "              precision    recall  f1-score   support\n",
            "\n",
            "           0       0.96      0.96      0.96      4637\n",
            "           1       0.92      0.89      0.90      1352\n",
            "           2       1.00      1.00      1.00      2671\n",
            "           3       0.99      0.99      0.99       470\n",
            "           5       1.00      0.18      0.31        11\n",
            "           6       0.92      0.92      0.92       515\n",
            "           7       0.95      0.98      0.97       760\n",
            "           8       0.99      0.99      0.99      3082\n",
            "           9       0.00      0.00      0.00        46\n",
            "          10       0.93      0.94      0.94      3122\n",
            "          11       0.93      0.95      0.94       838\n",
            "          12       0.96      0.94      0.95       348\n",
            "          13       0.00      0.00      0.00         4\n",
            "          14       0.99      0.98      0.99      2889\n",
            "          15       0.96      0.98      0.97      2700\n",
            "          16       0.93      0.98      0.96       503\n",
            "\n",
            "    accuracy                           0.96     23948\n",
            "   macro avg       0.84      0.79      0.80     23948\n",
            "weighted avg       0.96      0.96      0.96     23948\n",
            "\n",
            "F1: 0.96\n",
            "Accuracy: 0.96\n",
            "Saving best model...\n",
            "Train Epoch: 2 [32/344 (9%)]\tLoss: 0.050070\tTotal Loss: 0.050090\n",
            "Train Epoch: 2 [64/344 (18%)]\tLoss: 0.054755\tTotal Loss: 0.050300\n",
            "Train Epoch: 2 [96/344 (28%)]\tLoss: 0.038833\tTotal Loss: 0.050680\n",
            "Train Epoch: 2 [128/344 (37%)]\tLoss: 0.052382\tTotal Loss: 0.052670\n",
            "Train Epoch: 2 [160/344 (46%)]\tLoss: 0.049000\tTotal Loss: 0.053150\n",
            "Train Epoch: 2 [192/344 (56%)]\tLoss: 0.089585\tTotal Loss: 0.052720\n",
            "Train Epoch: 2 [224/344 (65%)]\tLoss: 0.032801\tTotal Loss: 0.052340\n",
            "Train Epoch: 2 [256/344 (74%)]\tLoss: 0.030204\tTotal Loss: 0.051300\n",
            "Train Epoch: 2 [288/344 (83%)]\tLoss: 0.044087\tTotal Loss: 0.051620\n",
            "Train Epoch: 2 [320/344 (93%)]\tLoss: 0.050837\tTotal Loss: 0.051540\n",
            "Progress: 0.53 31\n"
          ]
        },
        {
          "output_type": "stream",
          "name": "stderr",
          "text": [
            "/usr/local/lib/python3.7/dist-packages/sklearn/metrics/_classification.py:1318: UndefinedMetricWarning: Precision and F-score are ill-defined and being set to 0.0 in labels with no predicted samples. Use `zero_division` parameter to control this behavior.\n",
            "  _warn_prf(average, modifier, msg_start, len(result))\n",
            "/usr/local/lib/python3.7/dist-packages/sklearn/metrics/_classification.py:1318: UndefinedMetricWarning: Recall and F-score are ill-defined and being set to 0.0 in labels with no true samples. Use `zero_division` parameter to control this behavior.\n",
            "  _warn_prf(average, modifier, msg_start, len(result))\n",
            "/usr/local/lib/python3.7/dist-packages/sklearn/metrics/_classification.py:1318: UndefinedMetricWarning: Precision and F-score are ill-defined and being set to 0.0 in labels with no predicted samples. Use `zero_division` parameter to control this behavior.\n",
            "  _warn_prf(average, modifier, msg_start, len(result))\n",
            "/usr/local/lib/python3.7/dist-packages/sklearn/metrics/_classification.py:1318: UndefinedMetricWarning: Recall and F-score are ill-defined and being set to 0.0 in labels with no true samples. Use `zero_division` parameter to control this behavior.\n",
            "  _warn_prf(average, modifier, msg_start, len(result))\n",
            "/usr/local/lib/python3.7/dist-packages/sklearn/metrics/_classification.py:1318: UndefinedMetricWarning: Precision and F-score are ill-defined and being set to 0.0 in labels with no predicted samples. Use `zero_division` parameter to control this behavior.\n",
            "  _warn_prf(average, modifier, msg_start, len(result))\n",
            "/usr/local/lib/python3.7/dist-packages/sklearn/metrics/_classification.py:1318: UndefinedMetricWarning: Recall and F-score are ill-defined and being set to 0.0 in labels with no true samples. Use `zero_division` parameter to control this behavior.\n",
            "  _warn_prf(average, modifier, msg_start, len(result))\n"
          ]
        },
        {
          "output_type": "stream",
          "name": "stdout",
          "text": [
            "              precision    recall  f1-score   support\n",
            "\n",
            "           0       0.96      0.96      0.96      4637\n",
            "           1       0.91      0.91      0.91      1352\n",
            "           2       1.00      1.00      1.00      2671\n",
            "           3       0.99      0.99      0.99       470\n",
            "           5       1.00      1.00      1.00        11\n",
            "           6       0.95      0.92      0.94       515\n",
            "           7       0.96      0.99      0.97       760\n",
            "           8       0.99      0.99      0.99      3082\n",
            "           9       0.00      0.00      0.00        46\n",
            "          10       0.94      0.94      0.94      3122\n",
            "          11       0.94      0.96      0.95       838\n",
            "          12       0.98      0.95      0.96       348\n",
            "          13       0.00      0.00      0.00         4\n",
            "          14       0.99      0.99      0.99      2889\n",
            "          15       0.97      0.98      0.97      2700\n",
            "          16       0.93      0.99      0.96       503\n",
            "          17       0.00      0.00      0.00         0\n",
            "\n",
            "    accuracy                           0.97     23948\n",
            "   macro avg       0.80      0.80      0.80     23948\n",
            "weighted avg       0.97      0.97      0.97     23948\n",
            "\n",
            "F1: 0.97\n",
            "Accuracy: 0.97\n",
            "Saving best model...\n",
            "Train Epoch: 3 [32/344 (9%)]\tLoss: 0.065717\tTotal Loss: 0.039460\n",
            "Train Epoch: 3 [64/344 (18%)]\tLoss: 0.026033\tTotal Loss: 0.039730\n",
            "Train Epoch: 3 [96/344 (28%)]\tLoss: 0.030008\tTotal Loss: 0.042550\n",
            "Train Epoch: 3 [128/344 (37%)]\tLoss: 0.027898\tTotal Loss: 0.041180\n",
            "Train Epoch: 3 [160/344 (46%)]\tLoss: 0.022297\tTotal Loss: 0.040800\n",
            "Train Epoch: 3 [192/344 (56%)]\tLoss: 0.061098\tTotal Loss: 0.040690\n",
            "Train Epoch: 3 [224/344 (65%)]\tLoss: 0.033958\tTotal Loss: 0.040680\n",
            "Train Epoch: 3 [256/344 (74%)]\tLoss: 0.011176\tTotal Loss: 0.040490\n",
            "Train Epoch: 3 [288/344 (83%)]\tLoss: 0.038606\tTotal Loss: 0.040230\n",
            "Train Epoch: 3 [320/344 (93%)]\tLoss: 0.031803\tTotal Loss: 0.039760\n",
            "Progress: 0.53 31\n"
          ]
        },
        {
          "output_type": "stream",
          "name": "stderr",
          "text": [
            "/usr/local/lib/python3.7/dist-packages/sklearn/metrics/_classification.py:1318: UndefinedMetricWarning: Precision and F-score are ill-defined and being set to 0.0 in labels with no predicted samples. Use `zero_division` parameter to control this behavior.\n",
            "  _warn_prf(average, modifier, msg_start, len(result))\n",
            "/usr/local/lib/python3.7/dist-packages/sklearn/metrics/_classification.py:1318: UndefinedMetricWarning: Precision and F-score are ill-defined and being set to 0.0 in labels with no predicted samples. Use `zero_division` parameter to control this behavior.\n",
            "  _warn_prf(average, modifier, msg_start, len(result))\n",
            "/usr/local/lib/python3.7/dist-packages/sklearn/metrics/_classification.py:1318: UndefinedMetricWarning: Precision and F-score are ill-defined and being set to 0.0 in labels with no predicted samples. Use `zero_division` parameter to control this behavior.\n",
            "  _warn_prf(average, modifier, msg_start, len(result))\n"
          ]
        },
        {
          "output_type": "stream",
          "name": "stdout",
          "text": [
            "              precision    recall  f1-score   support\n",
            "\n",
            "           0       0.96      0.96      0.96      4637\n",
            "           1       0.92      0.90      0.91      1352\n",
            "           2       1.00      1.00      1.00      2671\n",
            "           3       0.99      1.00      0.99       470\n",
            "           5       1.00      1.00      1.00        11\n",
            "           6       0.96      0.94      0.95       515\n",
            "           7       0.96      0.99      0.97       760\n",
            "           8       0.99      0.99      0.99      3082\n",
            "           9       0.71      0.54      0.62        46\n",
            "          10       0.94      0.94      0.94      3122\n",
            "          11       0.94      0.96      0.95       838\n",
            "          12       0.99      0.95      0.96       348\n",
            "          13       0.00      0.00      0.00         4\n",
            "          14       0.99      0.99      0.99      2889\n",
            "          15       0.97      0.98      0.98      2700\n",
            "          16       0.96      0.99      0.97       503\n",
            "\n",
            "    accuracy                           0.97     23948\n",
            "   macro avg       0.89      0.88      0.89     23948\n",
            "weighted avg       0.97      0.97      0.97     23948\n",
            "\n",
            "F1: 0.97\n",
            "Accuracy: 0.97\n",
            "Saving best model...\n",
            "Train Epoch: 4 [32/344 (9%)]\tLoss: 0.015972\tTotal Loss: 0.029900\n",
            "Train Epoch: 4 [64/344 (18%)]\tLoss: 0.043037\tTotal Loss: 0.028650\n",
            "Train Epoch: 4 [96/344 (28%)]\tLoss: 0.026999\tTotal Loss: 0.029480\n",
            "Train Epoch: 4 [128/344 (37%)]\tLoss: 0.028632\tTotal Loss: 0.029790\n",
            "Train Epoch: 4 [160/344 (46%)]\tLoss: 0.019663\tTotal Loss: 0.030140\n",
            "Train Epoch: 4 [192/344 (56%)]\tLoss: 0.023562\tTotal Loss: 0.029880\n",
            "Train Epoch: 4 [224/344 (65%)]\tLoss: 0.025580\tTotal Loss: 0.030350\n",
            "Train Epoch: 4 [256/344 (74%)]\tLoss: 0.029859\tTotal Loss: 0.030110\n",
            "Train Epoch: 4 [288/344 (83%)]\tLoss: 0.040834\tTotal Loss: 0.030130\n",
            "Train Epoch: 4 [320/344 (93%)]\tLoss: 0.025943\tTotal Loss: 0.029990\n",
            "Progress: 0.53 31\n"
          ]
        },
        {
          "output_type": "stream",
          "name": "stderr",
          "text": [
            "/usr/local/lib/python3.7/dist-packages/sklearn/metrics/_classification.py:1318: UndefinedMetricWarning: Precision and F-score are ill-defined and being set to 0.0 in labels with no predicted samples. Use `zero_division` parameter to control this behavior.\n",
            "  _warn_prf(average, modifier, msg_start, len(result))\n",
            "/usr/local/lib/python3.7/dist-packages/sklearn/metrics/_classification.py:1318: UndefinedMetricWarning: Recall and F-score are ill-defined and being set to 0.0 in labels with no true samples. Use `zero_division` parameter to control this behavior.\n",
            "  _warn_prf(average, modifier, msg_start, len(result))\n",
            "/usr/local/lib/python3.7/dist-packages/sklearn/metrics/_classification.py:1318: UndefinedMetricWarning: Precision and F-score are ill-defined and being set to 0.0 in labels with no predicted samples. Use `zero_division` parameter to control this behavior.\n",
            "  _warn_prf(average, modifier, msg_start, len(result))\n",
            "/usr/local/lib/python3.7/dist-packages/sklearn/metrics/_classification.py:1318: UndefinedMetricWarning: Recall and F-score are ill-defined and being set to 0.0 in labels with no true samples. Use `zero_division` parameter to control this behavior.\n",
            "  _warn_prf(average, modifier, msg_start, len(result))\n",
            "/usr/local/lib/python3.7/dist-packages/sklearn/metrics/_classification.py:1318: UndefinedMetricWarning: Precision and F-score are ill-defined and being set to 0.0 in labels with no predicted samples. Use `zero_division` parameter to control this behavior.\n",
            "  _warn_prf(average, modifier, msg_start, len(result))\n",
            "/usr/local/lib/python3.7/dist-packages/sklearn/metrics/_classification.py:1318: UndefinedMetricWarning: Recall and F-score are ill-defined and being set to 0.0 in labels with no true samples. Use `zero_division` parameter to control this behavior.\n",
            "  _warn_prf(average, modifier, msg_start, len(result))\n"
          ]
        },
        {
          "output_type": "stream",
          "name": "stdout",
          "text": [
            "              precision    recall  f1-score   support\n",
            "\n",
            "           0       0.96      0.96      0.96      4637\n",
            "           1       0.93      0.90      0.91      1352\n",
            "           2       1.00      1.00      1.00      2671\n",
            "           3       1.00      0.99      1.00       470\n",
            "           5       1.00      1.00      1.00        11\n",
            "           6       0.95      0.95      0.95       515\n",
            "           7       0.97      0.99      0.98       760\n",
            "           8       0.99      0.99      0.99      3082\n",
            "           9       0.73      0.52      0.61        46\n",
            "          10       0.94      0.94      0.94      3122\n",
            "          11       0.96      0.95      0.95       838\n",
            "          12       0.99      0.94      0.96       348\n",
            "          13       0.00      0.00      0.00         4\n",
            "          14       0.99      0.99      0.99      2889\n",
            "          15       0.97      0.99      0.98      2700\n",
            "          16       0.97      0.98      0.97       503\n",
            "          17       0.00      0.00      0.00         0\n",
            "\n",
            "    accuracy                           0.97     23948\n",
            "   macro avg       0.84      0.83      0.83     23948\n",
            "weighted avg       0.97      0.97      0.97     23948\n",
            "\n",
            "F1: 0.97\n",
            "Accuracy: 0.97\n",
            "Train Epoch: 5 [32/344 (9%)]\tLoss: 0.015960\tTotal Loss: 0.024700\n",
            "Train Epoch: 5 [64/344 (18%)]\tLoss: 0.019735\tTotal Loss: 0.023140\n",
            "Train Epoch: 5 [96/344 (28%)]\tLoss: 0.017829\tTotal Loss: 0.023550\n",
            "Train Epoch: 5 [128/344 (37%)]\tLoss: 0.025437\tTotal Loss: 0.025060\n",
            "Train Epoch: 5 [160/344 (46%)]\tLoss: 0.041397\tTotal Loss: 0.025020\n",
            "Train Epoch: 5 [192/344 (56%)]\tLoss: 0.015901\tTotal Loss: 0.025300\n",
            "Train Epoch: 5 [224/344 (65%)]\tLoss: 0.037140\tTotal Loss: 0.025380\n",
            "Train Epoch: 5 [256/344 (74%)]\tLoss: 0.016159\tTotal Loss: 0.025230\n",
            "Train Epoch: 5 [288/344 (83%)]\tLoss: 0.024458\tTotal Loss: 0.025000\n",
            "Train Epoch: 5 [320/344 (93%)]\tLoss: 0.035051\tTotal Loss: 0.024910\n",
            "Progress: 0.53 31\n"
          ]
        },
        {
          "output_type": "stream",
          "name": "stderr",
          "text": [
            "/usr/local/lib/python3.7/dist-packages/sklearn/metrics/_classification.py:1318: UndefinedMetricWarning: Precision and F-score are ill-defined and being set to 0.0 in labels with no predicted samples. Use `zero_division` parameter to control this behavior.\n",
            "  _warn_prf(average, modifier, msg_start, len(result))\n",
            "/usr/local/lib/python3.7/dist-packages/sklearn/metrics/_classification.py:1318: UndefinedMetricWarning: Recall and F-score are ill-defined and being set to 0.0 in labels with no true samples. Use `zero_division` parameter to control this behavior.\n",
            "  _warn_prf(average, modifier, msg_start, len(result))\n",
            "/usr/local/lib/python3.7/dist-packages/sklearn/metrics/_classification.py:1318: UndefinedMetricWarning: Precision and F-score are ill-defined and being set to 0.0 in labels with no predicted samples. Use `zero_division` parameter to control this behavior.\n",
            "  _warn_prf(average, modifier, msg_start, len(result))\n",
            "/usr/local/lib/python3.7/dist-packages/sklearn/metrics/_classification.py:1318: UndefinedMetricWarning: Recall and F-score are ill-defined and being set to 0.0 in labels with no true samples. Use `zero_division` parameter to control this behavior.\n",
            "  _warn_prf(average, modifier, msg_start, len(result))\n",
            "/usr/local/lib/python3.7/dist-packages/sklearn/metrics/_classification.py:1318: UndefinedMetricWarning: Precision and F-score are ill-defined and being set to 0.0 in labels with no predicted samples. Use `zero_division` parameter to control this behavior.\n",
            "  _warn_prf(average, modifier, msg_start, len(result))\n",
            "/usr/local/lib/python3.7/dist-packages/sklearn/metrics/_classification.py:1318: UndefinedMetricWarning: Recall and F-score are ill-defined and being set to 0.0 in labels with no true samples. Use `zero_division` parameter to control this behavior.\n",
            "  _warn_prf(average, modifier, msg_start, len(result))\n"
          ]
        },
        {
          "output_type": "stream",
          "name": "stdout",
          "text": [
            "              precision    recall  f1-score   support\n",
            "\n",
            "           0       0.96      0.97      0.96      4637\n",
            "           1       0.91      0.93      0.92      1352\n",
            "           2       1.00      1.00      1.00      2671\n",
            "           3       0.99      0.99      0.99       470\n",
            "           5       1.00      1.00      1.00        11\n",
            "           6       0.95      0.95      0.95       515\n",
            "           7       0.97      0.99      0.98       760\n",
            "           8       0.99      0.99      0.99      3082\n",
            "           9       0.41      0.67      0.51        46\n",
            "          10       0.96      0.92      0.94      3122\n",
            "          11       0.96      0.95      0.96       838\n",
            "          12       0.99      0.94      0.96       348\n",
            "          13       0.00      0.00      0.00         4\n",
            "          14       0.99      0.99      0.99      2889\n",
            "          15       0.98      0.98      0.98      2700\n",
            "          16       0.96      0.98      0.97       503\n",
            "          17       0.00      0.00      0.00         0\n",
            "\n",
            "    accuracy                           0.97     23948\n",
            "   macro avg       0.82      0.84      0.83     23948\n",
            "weighted avg       0.97      0.97      0.97     23948\n",
            "\n",
            "F1: 0.97\n",
            "Accuracy: 0.97\n",
            "Saving best model...\n",
            "Train Epoch: 6 [32/344 (9%)]\tLoss: 0.024734\tTotal Loss: 0.020500\n",
            "Train Epoch: 6 [64/344 (18%)]\tLoss: 0.017512\tTotal Loss: 0.020380\n",
            "Train Epoch: 6 [96/344 (28%)]\tLoss: 0.020014\tTotal Loss: 0.020840\n",
            "Train Epoch: 6 [128/344 (37%)]\tLoss: 0.029968\tTotal Loss: 0.019930\n",
            "Train Epoch: 6 [160/344 (46%)]\tLoss: 0.029649\tTotal Loss: 0.019850\n",
            "Train Epoch: 6 [192/344 (56%)]\tLoss: 0.016367\tTotal Loss: 0.019960\n",
            "Train Epoch: 6 [224/344 (65%)]\tLoss: 0.010814\tTotal Loss: 0.019910\n",
            "Train Epoch: 6 [256/344 (74%)]\tLoss: 0.026526\tTotal Loss: 0.019480\n",
            "Train Epoch: 6 [288/344 (83%)]\tLoss: 0.009719\tTotal Loss: 0.019380\n",
            "Train Epoch: 6 [320/344 (93%)]\tLoss: 0.027822\tTotal Loss: 0.019560\n",
            "Progress: 0.53 31\n"
          ]
        },
        {
          "output_type": "stream",
          "name": "stderr",
          "text": [
            "/usr/local/lib/python3.7/dist-packages/sklearn/metrics/_classification.py:1318: UndefinedMetricWarning: Precision and F-score are ill-defined and being set to 0.0 in labels with no predicted samples. Use `zero_division` parameter to control this behavior.\n",
            "  _warn_prf(average, modifier, msg_start, len(result))\n",
            "/usr/local/lib/python3.7/dist-packages/sklearn/metrics/_classification.py:1318: UndefinedMetricWarning: Recall and F-score are ill-defined and being set to 0.0 in labels with no true samples. Use `zero_division` parameter to control this behavior.\n",
            "  _warn_prf(average, modifier, msg_start, len(result))\n",
            "/usr/local/lib/python3.7/dist-packages/sklearn/metrics/_classification.py:1318: UndefinedMetricWarning: Precision and F-score are ill-defined and being set to 0.0 in labels with no predicted samples. Use `zero_division` parameter to control this behavior.\n",
            "  _warn_prf(average, modifier, msg_start, len(result))\n",
            "/usr/local/lib/python3.7/dist-packages/sklearn/metrics/_classification.py:1318: UndefinedMetricWarning: Recall and F-score are ill-defined and being set to 0.0 in labels with no true samples. Use `zero_division` parameter to control this behavior.\n",
            "  _warn_prf(average, modifier, msg_start, len(result))\n",
            "/usr/local/lib/python3.7/dist-packages/sklearn/metrics/_classification.py:1318: UndefinedMetricWarning: Precision and F-score are ill-defined and being set to 0.0 in labels with no predicted samples. Use `zero_division` parameter to control this behavior.\n",
            "  _warn_prf(average, modifier, msg_start, len(result))\n",
            "/usr/local/lib/python3.7/dist-packages/sklearn/metrics/_classification.py:1318: UndefinedMetricWarning: Recall and F-score are ill-defined and being set to 0.0 in labels with no true samples. Use `zero_division` parameter to control this behavior.\n",
            "  _warn_prf(average, modifier, msg_start, len(result))\n"
          ]
        },
        {
          "output_type": "stream",
          "name": "stdout",
          "text": [
            "              precision    recall  f1-score   support\n",
            "\n",
            "           0       0.96      0.96      0.96      4637\n",
            "           1       0.93      0.91      0.92      1352\n",
            "           2       1.00      1.00      1.00      2671\n",
            "           3       0.99      0.99      0.99       470\n",
            "           5       1.00      1.00      1.00        11\n",
            "           6       0.95      0.95      0.95       515\n",
            "           7       0.97      0.99      0.98       760\n",
            "           8       0.99      0.99      0.99      3082\n",
            "           9       0.64      0.65      0.65        46\n",
            "          10       0.95      0.94      0.94      3122\n",
            "          11       0.97      0.95      0.96       838\n",
            "          12       0.99      0.94      0.96       348\n",
            "          13       0.00      0.00      0.00         4\n",
            "          14       0.99      0.99      0.99      2889\n",
            "          15       0.97      0.99      0.98      2700\n",
            "          16       0.98      0.97      0.97       503\n",
            "          17       0.00      0.00      0.00         0\n",
            "\n",
            "    accuracy                           0.97     23948\n",
            "   macro avg       0.84      0.84      0.84     23948\n",
            "weighted avg       0.97      0.97      0.97     23948\n",
            "\n",
            "F1: 0.97\n",
            "Accuracy: 0.97\n",
            "Saving best model...\n",
            "Train Epoch: 7 [32/344 (9%)]\tLoss: 0.010949\tTotal Loss: 0.018800\n",
            "Train Epoch: 7 [64/344 (18%)]\tLoss: 0.018285\tTotal Loss: 0.017190\n",
            "Train Epoch: 7 [96/344 (28%)]\tLoss: 0.017093\tTotal Loss: 0.016220\n",
            "Train Epoch: 7 [128/344 (37%)]\tLoss: 0.008851\tTotal Loss: 0.015960\n",
            "Train Epoch: 7 [160/344 (46%)]\tLoss: 0.020723\tTotal Loss: 0.016580\n",
            "Train Epoch: 7 [192/344 (56%)]\tLoss: 0.019461\tTotal Loss: 0.016170\n",
            "Train Epoch: 7 [224/344 (65%)]\tLoss: 0.006896\tTotal Loss: 0.016090\n",
            "Train Epoch: 7 [256/344 (74%)]\tLoss: 0.022905\tTotal Loss: 0.016310\n",
            "Train Epoch: 7 [288/344 (83%)]\tLoss: 0.040593\tTotal Loss: 0.016230\n",
            "Train Epoch: 7 [320/344 (93%)]\tLoss: 0.026647\tTotal Loss: 0.016350\n",
            "Progress: 0.53 31\n"
          ]
        },
        {
          "output_type": "stream",
          "name": "stderr",
          "text": [
            "/usr/local/lib/python3.7/dist-packages/sklearn/metrics/_classification.py:1318: UndefinedMetricWarning: Precision and F-score are ill-defined and being set to 0.0 in labels with no predicted samples. Use `zero_division` parameter to control this behavior.\n",
            "  _warn_prf(average, modifier, msg_start, len(result))\n",
            "/usr/local/lib/python3.7/dist-packages/sklearn/metrics/_classification.py:1318: UndefinedMetricWarning: Recall and F-score are ill-defined and being set to 0.0 in labels with no true samples. Use `zero_division` parameter to control this behavior.\n",
            "  _warn_prf(average, modifier, msg_start, len(result))\n",
            "/usr/local/lib/python3.7/dist-packages/sklearn/metrics/_classification.py:1318: UndefinedMetricWarning: Precision and F-score are ill-defined and being set to 0.0 in labels with no predicted samples. Use `zero_division` parameter to control this behavior.\n",
            "  _warn_prf(average, modifier, msg_start, len(result))\n",
            "/usr/local/lib/python3.7/dist-packages/sklearn/metrics/_classification.py:1318: UndefinedMetricWarning: Recall and F-score are ill-defined and being set to 0.0 in labels with no true samples. Use `zero_division` parameter to control this behavior.\n",
            "  _warn_prf(average, modifier, msg_start, len(result))\n",
            "/usr/local/lib/python3.7/dist-packages/sklearn/metrics/_classification.py:1318: UndefinedMetricWarning: Precision and F-score are ill-defined and being set to 0.0 in labels with no predicted samples. Use `zero_division` parameter to control this behavior.\n",
            "  _warn_prf(average, modifier, msg_start, len(result))\n",
            "/usr/local/lib/python3.7/dist-packages/sklearn/metrics/_classification.py:1318: UndefinedMetricWarning: Recall and F-score are ill-defined and being set to 0.0 in labels with no true samples. Use `zero_division` parameter to control this behavior.\n",
            "  _warn_prf(average, modifier, msg_start, len(result))\n"
          ]
        },
        {
          "output_type": "stream",
          "name": "stdout",
          "text": [
            "              precision    recall  f1-score   support\n",
            "\n",
            "           0       0.96      0.97      0.96      4637\n",
            "           1       0.93      0.91      0.92      1352\n",
            "           2       1.00      1.00      1.00      2671\n",
            "           3       0.99      0.99      0.99       470\n",
            "           5       1.00      1.00      1.00        11\n",
            "           6       0.96      0.94      0.95       515\n",
            "           7       0.97      0.99      0.98       760\n",
            "           8       0.99      0.99      0.99      3082\n",
            "           9       0.81      0.63      0.71        46\n",
            "          10       0.95      0.94      0.95      3122\n",
            "          11       0.96      0.95      0.96       838\n",
            "          12       0.99      0.94      0.96       348\n",
            "          13       0.00      0.00      0.00         4\n",
            "          14       0.99      0.99      0.99      2889\n",
            "          15       0.97      0.99      0.98      2700\n",
            "          16       0.97      0.97      0.97       503\n",
            "          17       0.00      0.00      0.00         0\n",
            "\n",
            "    accuracy                           0.97     23948\n",
            "   macro avg       0.85      0.84      0.84     23948\n",
            "weighted avg       0.97      0.97      0.97     23948\n",
            "\n",
            "F1: 0.97\n",
            "Accuracy: 0.97\n",
            "Saving best model...\n",
            "Train Epoch: 8 [32/344 (9%)]\tLoss: 0.017530\tTotal Loss: 0.014630\n",
            "Train Epoch: 8 [64/344 (18%)]\tLoss: 0.009067\tTotal Loss: 0.014190\n",
            "Train Epoch: 8 [96/344 (28%)]\tLoss: 0.008328\tTotal Loss: 0.014040\n",
            "Train Epoch: 8 [128/344 (37%)]\tLoss: 0.011500\tTotal Loss: 0.013980\n",
            "Train Epoch: 8 [160/344 (46%)]\tLoss: 0.010813\tTotal Loss: 0.014050\n",
            "Train Epoch: 8 [192/344 (56%)]\tLoss: 0.044068\tTotal Loss: 0.013940\n",
            "Train Epoch: 8 [224/344 (65%)]\tLoss: 0.010279\tTotal Loss: 0.013650\n",
            "Train Epoch: 8 [256/344 (74%)]\tLoss: 0.020226\tTotal Loss: 0.013420\n",
            "Train Epoch: 8 [288/344 (83%)]\tLoss: 0.012474\tTotal Loss: 0.013490\n",
            "Train Epoch: 8 [320/344 (93%)]\tLoss: 0.008550\tTotal Loss: 0.013610\n",
            "Progress: 0.53 31\n"
          ]
        },
        {
          "output_type": "stream",
          "name": "stderr",
          "text": [
            "/usr/local/lib/python3.7/dist-packages/sklearn/metrics/_classification.py:1318: UndefinedMetricWarning: Precision and F-score are ill-defined and being set to 0.0 in labels with no predicted samples. Use `zero_division` parameter to control this behavior.\n",
            "  _warn_prf(average, modifier, msg_start, len(result))\n",
            "/usr/local/lib/python3.7/dist-packages/sklearn/metrics/_classification.py:1318: UndefinedMetricWarning: Recall and F-score are ill-defined and being set to 0.0 in labels with no true samples. Use `zero_division` parameter to control this behavior.\n",
            "  _warn_prf(average, modifier, msg_start, len(result))\n",
            "/usr/local/lib/python3.7/dist-packages/sklearn/metrics/_classification.py:1318: UndefinedMetricWarning: Precision and F-score are ill-defined and being set to 0.0 in labels with no predicted samples. Use `zero_division` parameter to control this behavior.\n",
            "  _warn_prf(average, modifier, msg_start, len(result))\n",
            "/usr/local/lib/python3.7/dist-packages/sklearn/metrics/_classification.py:1318: UndefinedMetricWarning: Recall and F-score are ill-defined and being set to 0.0 in labels with no true samples. Use `zero_division` parameter to control this behavior.\n",
            "  _warn_prf(average, modifier, msg_start, len(result))\n",
            "/usr/local/lib/python3.7/dist-packages/sklearn/metrics/_classification.py:1318: UndefinedMetricWarning: Precision and F-score are ill-defined and being set to 0.0 in labels with no predicted samples. Use `zero_division` parameter to control this behavior.\n",
            "  _warn_prf(average, modifier, msg_start, len(result))\n",
            "/usr/local/lib/python3.7/dist-packages/sklearn/metrics/_classification.py:1318: UndefinedMetricWarning: Recall and F-score are ill-defined and being set to 0.0 in labels with no true samples. Use `zero_division` parameter to control this behavior.\n",
            "  _warn_prf(average, modifier, msg_start, len(result))\n"
          ]
        },
        {
          "output_type": "stream",
          "name": "stdout",
          "text": [
            "              precision    recall  f1-score   support\n",
            "\n",
            "           0       0.96      0.97      0.96      4637\n",
            "           1       0.92      0.92      0.92      1352\n",
            "           2       1.00      1.00      1.00      2671\n",
            "           3       1.00      0.99      0.99       470\n",
            "           5       1.00      1.00      1.00        11\n",
            "           6       0.96      0.94      0.95       515\n",
            "           7       0.97      0.98      0.98       760\n",
            "           8       0.99      1.00      0.99      3082\n",
            "           9       0.70      0.61      0.65        46\n",
            "          10       0.95      0.94      0.95      3122\n",
            "          11       0.96      0.95      0.96       838\n",
            "          12       0.99      0.93      0.96       348\n",
            "          13       0.00      0.00      0.00         4\n",
            "          14       0.99      1.00      0.99      2889\n",
            "          15       0.97      0.99      0.98      2700\n",
            "          16       0.97      0.97      0.97       503\n",
            "          17       0.00      0.00      0.00         0\n",
            "\n",
            "    accuracy                           0.97     23948\n",
            "   macro avg       0.84      0.83      0.84     23948\n",
            "weighted avg       0.97      0.97      0.97     23948\n",
            "\n",
            "F1: 0.97\n",
            "Accuracy: 0.97\n",
            "Train Epoch: 9 [32/344 (9%)]\tLoss: 0.013536\tTotal Loss: 0.011030\n",
            "Train Epoch: 9 [64/344 (18%)]\tLoss: 0.012777\tTotal Loss: 0.010320\n",
            "Train Epoch: 9 [96/344 (28%)]\tLoss: 0.017787\tTotal Loss: 0.011640\n",
            "Train Epoch: 9 [128/344 (37%)]\tLoss: 0.014109\tTotal Loss: 0.010910\n",
            "Train Epoch: 9 [160/344 (46%)]\tLoss: 0.017497\tTotal Loss: 0.011150\n",
            "Train Epoch: 9 [192/344 (56%)]\tLoss: 0.013228\tTotal Loss: 0.011100\n",
            "Train Epoch: 9 [224/344 (65%)]\tLoss: 0.005947\tTotal Loss: 0.011310\n",
            "Train Epoch: 9 [256/344 (74%)]\tLoss: 0.010474\tTotal Loss: 0.011360\n",
            "Train Epoch: 9 [288/344 (83%)]\tLoss: 0.007793\tTotal Loss: 0.011470\n",
            "Train Epoch: 9 [320/344 (93%)]\tLoss: 0.006485\tTotal Loss: 0.011640\n",
            "Progress: 0.53 31\n",
            "              precision    recall  f1-score   support\n",
            "\n",
            "           0       0.96      0.96      0.96      4637\n",
            "           1       0.93      0.91      0.92      1352\n",
            "           2       1.00      1.00      1.00      2671\n",
            "           3       1.00      0.99      0.99       470\n",
            "           5       1.00      1.00      1.00        11\n",
            "           6       0.97      0.94      0.95       515\n",
            "           7       0.97      0.99      0.98       760\n",
            "           8       0.99      0.99      0.99      3082\n",
            "           9       1.00      0.33      0.49        46\n",
            "          10       0.94      0.95      0.95      3122\n",
            "          11       0.96      0.95      0.96       838\n",
            "          12       0.98      0.94      0.96       348\n",
            "          13       0.00      0.00      0.00         4\n",
            "          14       0.99      0.99      0.99      2889\n",
            "          15       0.97      0.99      0.98      2700\n",
            "          16       0.97      0.98      0.97       503\n",
            "          17       0.00      0.00      0.00         0\n",
            "\n",
            "    accuracy                           0.97     23948\n",
            "   macro avg       0.86      0.82      0.83     23948\n",
            "weighted avg       0.97      0.97      0.97     23948\n",
            "\n",
            "F1: 0.97\n",
            "Accuracy: 0.97\n"
          ]
        },
        {
          "output_type": "stream",
          "name": "stderr",
          "text": [
            "/usr/local/lib/python3.7/dist-packages/sklearn/metrics/_classification.py:1318: UndefinedMetricWarning: Precision and F-score are ill-defined and being set to 0.0 in labels with no predicted samples. Use `zero_division` parameter to control this behavior.\n",
            "  _warn_prf(average, modifier, msg_start, len(result))\n",
            "/usr/local/lib/python3.7/dist-packages/sklearn/metrics/_classification.py:1318: UndefinedMetricWarning: Recall and F-score are ill-defined and being set to 0.0 in labels with no true samples. Use `zero_division` parameter to control this behavior.\n",
            "  _warn_prf(average, modifier, msg_start, len(result))\n",
            "/usr/local/lib/python3.7/dist-packages/sklearn/metrics/_classification.py:1318: UndefinedMetricWarning: Precision and F-score are ill-defined and being set to 0.0 in labels with no predicted samples. Use `zero_division` parameter to control this behavior.\n",
            "  _warn_prf(average, modifier, msg_start, len(result))\n",
            "/usr/local/lib/python3.7/dist-packages/sklearn/metrics/_classification.py:1318: UndefinedMetricWarning: Recall and F-score are ill-defined and being set to 0.0 in labels with no true samples. Use `zero_division` parameter to control this behavior.\n",
            "  _warn_prf(average, modifier, msg_start, len(result))\n",
            "/usr/local/lib/python3.7/dist-packages/sklearn/metrics/_classification.py:1318: UndefinedMetricWarning: Precision and F-score are ill-defined and being set to 0.0 in labels with no predicted samples. Use `zero_division` parameter to control this behavior.\n",
            "  _warn_prf(average, modifier, msg_start, len(result))\n",
            "/usr/local/lib/python3.7/dist-packages/sklearn/metrics/_classification.py:1318: UndefinedMetricWarning: Recall and F-score are ill-defined and being set to 0.0 in labels with no true samples. Use `zero_division` parameter to control this behavior.\n",
            "  _warn_prf(average, modifier, msg_start, len(result))\n"
          ]
        }
      ]
    }
  ]
}